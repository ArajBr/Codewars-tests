{
 "cells": [
  {
   "cell_type": "code",
   "execution_count": 10,
   "id": "c720de49",
   "metadata": {},
   "outputs": [],
   "source": [
    "markers = ['#','!','&','$']\n",
    "strng = ' a #b\\nc\\nd $e f g'\n",
    "\n",
    "split_list = strng.split(\"\\n\")\n",
    "new = []"
   ]
  },
  {
   "cell_type": "code",
   "execution_count": 11,
   "id": "b739c7c6",
   "metadata": {},
   "outputs": [
    {
     "name": "stdout",
     "output_type": "stream",
     "text": [
      "[' a #b', 'c', 'd $e f g']\n"
     ]
    }
   ],
   "source": [
    "print(split_list)"
   ]
  },
  {
   "cell_type": "code",
   "execution_count": 23,
   "id": "33e78d81",
   "metadata": {},
   "outputs": [],
   "source": [
    "s=''\n",
    "for item in split_list:\n",
    "    for char in item:\n",
    "        if char in markers:\n",
    "            break\n",
    "        else:\n",
    "            s = s + char\n",
    "        s = s.rstrip()\n",
    "        new.append(s)"
   ]
  },
  {
   "cell_type": "code",
   "execution_count": 24,
   "id": "cccabb28",
   "metadata": {},
   "outputs": [
    {
     "name": "stdout",
     "output_type": "stream",
     "text": [
      "['a ', 'a c', 'a cd ', ' a', ' ac', ' acd', ' a', ' ac', ' acd', ' a', ' ac', ' acd', '', 'a', 'a', 'ac', 'acd', 'acd']\n"
     ]
    }
   ],
   "source": [
    "print(new)"
   ]
  },
  {
   "cell_type": "code",
   "execution_count": 19,
   "id": "a6a56ee5",
   "metadata": {},
   "outputs": [
    {
     "name": "stdout",
     "output_type": "stream",
     "text": [
      " \n",
      "a\n",
      "c\n",
      "d\n"
     ]
    }
   ],
   "source": [
    "print('\\n'.join(s))"
   ]
  },
  {
   "cell_type": "code",
   "execution_count": 36,
   "id": "6eb14385",
   "metadata": {},
   "outputs": [
    {
     "name": "stdout",
     "output_type": "stream",
     "text": [
      "0\n",
      "1\n",
      "2\n",
      "3\n",
      "4\n",
      "5\n"
     ]
    },
    {
     "data": {
      "text/plain": [
       "True"
      ]
     },
     "execution_count": 36,
     "metadata": {},
     "output_type": "execute_result"
    }
   ],
   "source": [
    "string = \"same chars may not be adjacent\"\n",
    "def is_isogram(string):\n",
    "    string = string.upper()\n",
    "    for i, k in enumerate(string):\n",
    "        for j, l in enumerate(string):\n",
    "            if (string[i] == string[j]) & (i != j):\n",
    "                return False\n",
    "    return True\n",
    "\n",
    "string = \"jacent\"\n",
    "is_isogram(string)\n",
    "#print(string)"
   ]
  },
  {
   "cell_type": "code",
   "execution_count": 57,
   "id": "a21d1acb",
   "metadata": {},
   "outputs": [],
   "source": [
    "mem =  [[18, 20], [45, 2], [61, 12], [37, 6], [21, 21], [78, 9]]\n",
    "output = [\"Open\", \"Open\", \"Senior\", \"Open\", \"Open\", \"Senior\"]\n",
    "\n",
    "def open_or_senior(data):\n",
    "    out=[]\n",
    "    for j, item in enumerate(mem):\n",
    "        if (item[0] > 55) & (item[1] > 7):\n",
    "            print(i)\n",
    "            out[j] = \"Senior\"\n",
    "        else:\n",
    "            out[j] = \"Open\"    \n",
    "    return out"
   ]
  },
  {
   "cell_type": "code",
   "execution_count": 59,
   "id": "f2937ee5",
   "metadata": {},
   "outputs": [
    {
     "name": "stdout",
     "output_type": "stream",
     "text": [
      "[18, 20]\n",
      "0\n",
      "[45, 2]\n",
      "1\n",
      "[61, 12]\n",
      "2\n",
      "[18, 20]\n",
      "[37, 6]\n",
      "3\n",
      "[21, 21]\n",
      "4\n",
      "[78, 9]\n",
      "5\n",
      "[18, 20]\n",
      "['Open', 'Open', 'Senior', 'Open', 'Open', 'Senior']\n"
     ]
    }
   ],
   "source": [
    "\n",
    "out=[]\n",
    "for j, item in enumerate(mem):\n",
    "    print(item)\n",
    "    print(j)\n",
    "    if (item[0] > 55) & (item[1] > 7):\n",
    "        print(i)\n",
    "        out.append(\"Senior\")\n",
    "    else:\n",
    "        out.append(\"Open\")\n",
    "        \n",
    "print(out)        "
   ]
  },
  {
   "cell_type": "code",
   "execution_count": null,
   "id": "66c572f7",
   "metadata": {},
   "outputs": [],
   "source": [
    "def recover(st): \n",
    "    const alph = {\"ZERO\":0,\"ONE\":1,\"TWO\":2,\"THREE\":3,\"FOUR\":4,\"FIVE\":5,\"SIX\":6,\"SEVEN\":7,\"EIGHT\":8,\"NINE\":9};\n",
    "    \n",
    "    # your code here\n",
    "    pass"
   ]
  }
 ],
 "metadata": {
  "kernelspec": {
   "display_name": "Python 3 (ipykernel)",
   "language": "python",
   "name": "python3"
  },
  "language_info": {
   "codemirror_mode": {
    "name": "ipython",
    "version": 3
   },
   "file_extension": ".py",
   "mimetype": "text/x-python",
   "name": "python",
   "nbconvert_exporter": "python",
   "pygments_lexer": "ipython3",
   "version": "3.9.12"
  }
 },
 "nbformat": 4,
 "nbformat_minor": 5
}
